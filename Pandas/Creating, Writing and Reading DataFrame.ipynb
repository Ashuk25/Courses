{
 "cells": [
  {
   "cell_type": "markdown",
   "id": "b435aa90",
   "metadata": {},
   "source": [
    "### For Dataset please visit this link - [Data](https://github.com/Ashuk25/Courses/tree/main/Pandas/Dataset)"
   ]
  },
  {
   "cell_type": "markdown",
   "id": "6695e647",
   "metadata": {},
   "source": [
    "## Creating DataFrame & Series\n",
    "\n",
    "        We have to import Pandas\n",
    "        import pandas as pd\n",
    "\n",
    "### For creating the DataFrame we have to follow below syntax.\n",
    "    pd.DataFrame(\n",
    "     {'Key':'Values'}\n",
    "    )\n",
    "    Key - Column Name\n",
    "    Values - Row Entries\n",
    "   \n",
    "### Note:\n",
    "    By default DataFrame is proving index in accending order when we create it. eg. 0,1,2,3,4,5....\n",
    "    If we want to change the index, we need to write code in below format.\n",
    "    pd.DataFrame(\n",
    "    {'key':'Value'}, index=['A','B',...]\n",
    "    )\n",
    "    The index name depends on how many enteries we have in DataFrame.\n",
    "\n",
    "### Example:"
   ]
  },
  {
   "cell_type": "code",
   "execution_count": 1,
   "id": "78369a53",
   "metadata": {},
   "outputs": [],
   "source": [
    "import pandas as pd"
   ]
  },
  {
   "cell_type": "code",
   "execution_count": 2,
   "id": "3f79efd5",
   "metadata": {},
   "outputs": [],
   "source": [
    "# Crearing DataFrame\n",
    "dict1 = {\n",
    "    \"name\":['Jon', 'Kevin', 'Oreo', 'Alex', 'Fake'],\n",
    "    \"mark\":[80,78,75,84,82],\n",
    "    \"city\":['Mumbai','Banglore','Malad','Dombivli','Ghansoli']\n",
    "}"
   ]
  },
  {
   "cell_type": "code",
   "execution_count": 5,
   "id": "089e6103",
   "metadata": {},
   "outputs": [],
   "source": [
    "df = pd.DataFrame(dict1)"
   ]
  },
  {
   "cell_type": "code",
   "execution_count": 4,
   "id": "2fa8703f",
   "metadata": {},
   "outputs": [
    {
     "data": {
      "text/html": [
       "<div>\n",
       "<style scoped>\n",
       "    .dataframe tbody tr th:only-of-type {\n",
       "        vertical-align: middle;\n",
       "    }\n",
       "\n",
       "    .dataframe tbody tr th {\n",
       "        vertical-align: top;\n",
       "    }\n",
       "\n",
       "    .dataframe thead th {\n",
       "        text-align: right;\n",
       "    }\n",
       "</style>\n",
       "<table border=\"1\" class=\"dataframe\">\n",
       "  <thead>\n",
       "    <tr style=\"text-align: right;\">\n",
       "      <th></th>\n",
       "      <th>name</th>\n",
       "      <th>mark</th>\n",
       "      <th>city</th>\n",
       "    </tr>\n",
       "  </thead>\n",
       "  <tbody>\n",
       "    <tr>\n",
       "      <th>0</th>\n",
       "      <td>Jon</td>\n",
       "      <td>80</td>\n",
       "      <td>Mumbai</td>\n",
       "    </tr>\n",
       "    <tr>\n",
       "      <th>1</th>\n",
       "      <td>Kevin</td>\n",
       "      <td>78</td>\n",
       "      <td>Banglore</td>\n",
       "    </tr>\n",
       "    <tr>\n",
       "      <th>2</th>\n",
       "      <td>Oreo</td>\n",
       "      <td>75</td>\n",
       "      <td>Malad</td>\n",
       "    </tr>\n",
       "    <tr>\n",
       "      <th>3</th>\n",
       "      <td>Alex</td>\n",
       "      <td>84</td>\n",
       "      <td>Dombivli</td>\n",
       "    </tr>\n",
       "    <tr>\n",
       "      <th>4</th>\n",
       "      <td>Fake</td>\n",
       "      <td>82</td>\n",
       "      <td>Ghansoli</td>\n",
       "    </tr>\n",
       "  </tbody>\n",
       "</table>\n",
       "</div>"
      ],
      "text/plain": [
       "    name  mark      city\n",
       "0    Jon    80    Mumbai\n",
       "1  Kevin    78  Banglore\n",
       "2   Oreo    75     Malad\n",
       "3   Alex    84  Dombivli\n",
       "4   Fake    82  Ghansoli"
      ]
     },
     "execution_count": 4,
     "metadata": {},
     "output_type": "execute_result"
    }
   ],
   "source": [
    "df.head() # Display only top 5 enteries in the table."
   ]
  },
  {
   "cell_type": "code",
   "execution_count": 6,
   "id": "93f90f23",
   "metadata": {},
   "outputs": [
    {
     "data": {
      "text/html": [
       "<div>\n",
       "<style scoped>\n",
       "    .dataframe tbody tr th:only-of-type {\n",
       "        vertical-align: middle;\n",
       "    }\n",
       "\n",
       "    .dataframe tbody tr th {\n",
       "        vertical-align: top;\n",
       "    }\n",
       "\n",
       "    .dataframe thead th {\n",
       "        text-align: right;\n",
       "    }\n",
       "</style>\n",
       "<table border=\"1\" class=\"dataframe\">\n",
       "  <thead>\n",
       "    <tr style=\"text-align: right;\">\n",
       "      <th></th>\n",
       "      <th>name</th>\n",
       "      <th>mark</th>\n",
       "      <th>city</th>\n",
       "    </tr>\n",
       "  </thead>\n",
       "  <tbody>\n",
       "    <tr>\n",
       "      <th>0</th>\n",
       "      <td>Jon</td>\n",
       "      <td>80</td>\n",
       "      <td>Mumbai</td>\n",
       "    </tr>\n",
       "    <tr>\n",
       "      <th>1</th>\n",
       "      <td>Kevin</td>\n",
       "      <td>78</td>\n",
       "      <td>Banglore</td>\n",
       "    </tr>\n",
       "  </tbody>\n",
       "</table>\n",
       "</div>"
      ],
      "text/plain": [
       "    name  mark      city\n",
       "0    Jon    80    Mumbai\n",
       "1  Kevin    78  Banglore"
      ]
     },
     "execution_count": 6,
     "metadata": {},
     "output_type": "execute_result"
    }
   ],
   "source": [
    "# we can manipulate the head() by providing the custom input in parameter.\n",
    "df.head(2)"
   ]
  },
  {
   "cell_type": "code",
   "execution_count": 7,
   "id": "c545f8c9",
   "metadata": {},
   "outputs": [
    {
     "data": {
      "text/html": [
       "<div>\n",
       "<style scoped>\n",
       "    .dataframe tbody tr th:only-of-type {\n",
       "        vertical-align: middle;\n",
       "    }\n",
       "\n",
       "    .dataframe tbody tr th {\n",
       "        vertical-align: top;\n",
       "    }\n",
       "\n",
       "    .dataframe thead th {\n",
       "        text-align: right;\n",
       "    }\n",
       "</style>\n",
       "<table border=\"1\" class=\"dataframe\">\n",
       "  <thead>\n",
       "    <tr style=\"text-align: right;\">\n",
       "      <th></th>\n",
       "      <th>name</th>\n",
       "      <th>mark</th>\n",
       "      <th>city</th>\n",
       "    </tr>\n",
       "  </thead>\n",
       "  <tbody>\n",
       "    <tr>\n",
       "      <th>0</th>\n",
       "      <td>Jon</td>\n",
       "      <td>80</td>\n",
       "      <td>Mumbai</td>\n",
       "    </tr>\n",
       "    <tr>\n",
       "      <th>1</th>\n",
       "      <td>Kevin</td>\n",
       "      <td>78</td>\n",
       "      <td>Banglore</td>\n",
       "    </tr>\n",
       "    <tr>\n",
       "      <th>2</th>\n",
       "      <td>Oreo</td>\n",
       "      <td>75</td>\n",
       "      <td>Malad</td>\n",
       "    </tr>\n",
       "    <tr>\n",
       "      <th>3</th>\n",
       "      <td>Alex</td>\n",
       "      <td>84</td>\n",
       "      <td>Dombivli</td>\n",
       "    </tr>\n",
       "    <tr>\n",
       "      <th>4</th>\n",
       "      <td>Fake</td>\n",
       "      <td>82</td>\n",
       "      <td>Ghansoli</td>\n",
       "    </tr>\n",
       "  </tbody>\n",
       "</table>\n",
       "</div>"
      ],
      "text/plain": [
       "    name  mark      city\n",
       "0    Jon    80    Mumbai\n",
       "1  Kevin    78  Banglore\n",
       "2   Oreo    75     Malad\n",
       "3   Alex    84  Dombivli\n",
       "4   Fake    82  Ghansoli"
      ]
     },
     "execution_count": 7,
     "metadata": {},
     "output_type": "execute_result"
    }
   ],
   "source": [
    "df.tail() # Display only bottom 5 enteries in the table."
   ]
  },
  {
   "cell_type": "code",
   "execution_count": 8,
   "id": "f76f0ec7",
   "metadata": {},
   "outputs": [
    {
     "data": {
      "text/html": [
       "<div>\n",
       "<style scoped>\n",
       "    .dataframe tbody tr th:only-of-type {\n",
       "        vertical-align: middle;\n",
       "    }\n",
       "\n",
       "    .dataframe tbody tr th {\n",
       "        vertical-align: top;\n",
       "    }\n",
       "\n",
       "    .dataframe thead th {\n",
       "        text-align: right;\n",
       "    }\n",
       "</style>\n",
       "<table border=\"1\" class=\"dataframe\">\n",
       "  <thead>\n",
       "    <tr style=\"text-align: right;\">\n",
       "      <th></th>\n",
       "      <th>name</th>\n",
       "      <th>mark</th>\n",
       "      <th>city</th>\n",
       "    </tr>\n",
       "  </thead>\n",
       "  <tbody>\n",
       "    <tr>\n",
       "      <th>3</th>\n",
       "      <td>Alex</td>\n",
       "      <td>84</td>\n",
       "      <td>Dombivli</td>\n",
       "    </tr>\n",
       "    <tr>\n",
       "      <th>4</th>\n",
       "      <td>Fake</td>\n",
       "      <td>82</td>\n",
       "      <td>Ghansoli</td>\n",
       "    </tr>\n",
       "  </tbody>\n",
       "</table>\n",
       "</div>"
      ],
      "text/plain": [
       "   name  mark      city\n",
       "3  Alex    84  Dombivli\n",
       "4  Fake    82  Ghansoli"
      ]
     },
     "execution_count": 8,
     "metadata": {},
     "output_type": "execute_result"
    }
   ],
   "source": [
    "# we can manipulate the tail() by providing the custom input in parameter.\n",
    "df.tail(2)"
   ]
  },
  {
   "cell_type": "code",
   "execution_count": 9,
   "id": "c829d573",
   "metadata": {},
   "outputs": [],
   "source": [
    "df_no_index = pd.DataFrame(dict1, index=['A','B','C','D','E'])"
   ]
  },
  {
   "cell_type": "code",
   "execution_count": 10,
   "id": "3d302bb0",
   "metadata": {},
   "outputs": [
    {
     "data": {
      "text/html": [
       "<div>\n",
       "<style scoped>\n",
       "    .dataframe tbody tr th:only-of-type {\n",
       "        vertical-align: middle;\n",
       "    }\n",
       "\n",
       "    .dataframe tbody tr th {\n",
       "        vertical-align: top;\n",
       "    }\n",
       "\n",
       "    .dataframe thead th {\n",
       "        text-align: right;\n",
       "    }\n",
       "</style>\n",
       "<table border=\"1\" class=\"dataframe\">\n",
       "  <thead>\n",
       "    <tr style=\"text-align: right;\">\n",
       "      <th></th>\n",
       "      <th>name</th>\n",
       "      <th>mark</th>\n",
       "      <th>city</th>\n",
       "    </tr>\n",
       "  </thead>\n",
       "  <tbody>\n",
       "    <tr>\n",
       "      <th>A</th>\n",
       "      <td>Jon</td>\n",
       "      <td>80</td>\n",
       "      <td>Mumbai</td>\n",
       "    </tr>\n",
       "    <tr>\n",
       "      <th>B</th>\n",
       "      <td>Kevin</td>\n",
       "      <td>78</td>\n",
       "      <td>Banglore</td>\n",
       "    </tr>\n",
       "    <tr>\n",
       "      <th>C</th>\n",
       "      <td>Oreo</td>\n",
       "      <td>75</td>\n",
       "      <td>Malad</td>\n",
       "    </tr>\n",
       "    <tr>\n",
       "      <th>D</th>\n",
       "      <td>Alex</td>\n",
       "      <td>84</td>\n",
       "      <td>Dombivli</td>\n",
       "    </tr>\n",
       "    <tr>\n",
       "      <th>E</th>\n",
       "      <td>Fake</td>\n",
       "      <td>82</td>\n",
       "      <td>Ghansoli</td>\n",
       "    </tr>\n",
       "  </tbody>\n",
       "</table>\n",
       "</div>"
      ],
      "text/plain": [
       "    name  mark      city\n",
       "A    Jon    80    Mumbai\n",
       "B  Kevin    78  Banglore\n",
       "C   Oreo    75     Malad\n",
       "D   Alex    84  Dombivli\n",
       "E   Fake    82  Ghansoli"
      ]
     },
     "execution_count": 10,
     "metadata": {},
     "output_type": "execute_result"
    }
   ],
   "source": [
    "df_no_index"
   ]
  },
  {
   "cell_type": "markdown",
   "id": "37379495",
   "metadata": {},
   "source": [
    "### For creating the Series we have to follow below syntax.\n",
    "    pd.Series([Values])\n",
    "    \n",
    "    For provind the index name and single column name we shoud follow the below syntax.\n",
    "    \n",
    "    pd.Series([Values], index = ['0','2',...], name='XYZ')\n",
    "    \n",
    "    Values - Number of enteries\n",
    "    index - provide id to enteries\n",
    "    name - We can create the column name\n",
    "\n",
    "### Note:\n",
    "    Actually, DataFrame is just a bunch of Series.\n",
    "\n",
    "### Example:"
   ]
  },
  {
   "cell_type": "code",
   "execution_count": 11,
   "id": "9bca00e0",
   "metadata": {},
   "outputs": [
    {
     "data": {
      "text/plain": [
       "0      Male\n",
       "1      Male\n",
       "2    Female\n",
       "3      Male\n",
       "4    Female\n",
       "dtype: object"
      ]
     },
     "execution_count": 11,
     "metadata": {},
     "output_type": "execute_result"
    }
   ],
   "source": [
    "ser = pd.Series(['Male','Male','Female','Male','Female'])\n",
    "ser"
   ]
  },
  {
   "cell_type": "code",
   "execution_count": 12,
   "id": "694b4e1e",
   "metadata": {},
   "outputs": [],
   "source": [
    "# Now we will provide the column name to above series\n",
    "ser = pd.Series(ser, name='Gender')"
   ]
  },
  {
   "cell_type": "code",
   "execution_count": 13,
   "id": "af27e3ca",
   "metadata": {},
   "outputs": [
    {
     "data": {
      "text/plain": [
       "0      Male\n",
       "1      Male\n",
       "2    Female\n",
       "3      Male\n",
       "4    Female\n",
       "Name: Gender, dtype: object"
      ]
     },
     "execution_count": 13,
     "metadata": {},
     "output_type": "execute_result"
    }
   ],
   "source": [
    "ser"
   ]
  },
  {
   "cell_type": "code",
   "execution_count": 15,
   "id": "730da322",
   "metadata": {},
   "outputs": [],
   "source": [
    "# Add above series in df_no_index DataFrame\n",
    "df_no_index[ser.name] = ser.values"
   ]
  },
  {
   "cell_type": "code",
   "execution_count": 17,
   "id": "0c1a79d7",
   "metadata": {},
   "outputs": [
    {
     "data": {
      "text/html": [
       "<div>\n",
       "<style scoped>\n",
       "    .dataframe tbody tr th:only-of-type {\n",
       "        vertical-align: middle;\n",
       "    }\n",
       "\n",
       "    .dataframe tbody tr th {\n",
       "        vertical-align: top;\n",
       "    }\n",
       "\n",
       "    .dataframe thead th {\n",
       "        text-align: right;\n",
       "    }\n",
       "</style>\n",
       "<table border=\"1\" class=\"dataframe\">\n",
       "  <thead>\n",
       "    <tr style=\"text-align: right;\">\n",
       "      <th></th>\n",
       "      <th>name</th>\n",
       "      <th>mark</th>\n",
       "      <th>city</th>\n",
       "      <th>Gender</th>\n",
       "    </tr>\n",
       "  </thead>\n",
       "  <tbody>\n",
       "    <tr>\n",
       "      <th>A</th>\n",
       "      <td>Jon</td>\n",
       "      <td>80</td>\n",
       "      <td>Mumbai</td>\n",
       "      <td>Male</td>\n",
       "    </tr>\n",
       "    <tr>\n",
       "      <th>B</th>\n",
       "      <td>Kevin</td>\n",
       "      <td>78</td>\n",
       "      <td>Banglore</td>\n",
       "      <td>Male</td>\n",
       "    </tr>\n",
       "    <tr>\n",
       "      <th>C</th>\n",
       "      <td>Oreo</td>\n",
       "      <td>75</td>\n",
       "      <td>Malad</td>\n",
       "      <td>Female</td>\n",
       "    </tr>\n",
       "    <tr>\n",
       "      <th>D</th>\n",
       "      <td>Alex</td>\n",
       "      <td>84</td>\n",
       "      <td>Dombivli</td>\n",
       "      <td>Male</td>\n",
       "    </tr>\n",
       "    <tr>\n",
       "      <th>E</th>\n",
       "      <td>Fake</td>\n",
       "      <td>82</td>\n",
       "      <td>Ghansoli</td>\n",
       "      <td>Female</td>\n",
       "    </tr>\n",
       "  </tbody>\n",
       "</table>\n",
       "</div>"
      ],
      "text/plain": [
       "    name  mark      city  Gender\n",
       "A    Jon    80    Mumbai    Male\n",
       "B  Kevin    78  Banglore    Male\n",
       "C   Oreo    75     Malad  Female\n",
       "D   Alex    84  Dombivli    Male\n",
       "E   Fake    82  Ghansoli  Female"
      ]
     },
     "execution_count": 17,
     "metadata": {},
     "output_type": "execute_result"
    }
   ],
   "source": [
    "df_no_index"
   ]
  },
  {
   "cell_type": "markdown",
   "id": "48119d7c",
   "metadata": {},
   "source": [
    "## Writing or Export Dataframe \n",
    "\n",
    "### Syntax for writing DataFrame:\n",
    "    w = pd.DataFrame({'Key':'Values'})\n",
    "    w.to_csv(\"filename.csv\")\n",
    "\n",
    "### Example"
   ]
  },
  {
   "cell_type": "code",
   "execution_count": 18,
   "id": "a11e6c78",
   "metadata": {},
   "outputs": [],
   "source": [
    "df_no_index.to_csv('Dataset/result.csv') #export above data into .csv file"
   ]
  },
  {
   "cell_type": "code",
   "execution_count": 19,
   "id": "aee571a2",
   "metadata": {},
   "outputs": [],
   "source": [
    "df_no_index.to_csv('Dataset/result_no_index.csv', index=False) #export above data into .csv file without index"
   ]
  },
  {
   "cell_type": "markdown",
   "id": "353e836c",
   "metadata": {},
   "source": [
    "## Reading DataFrame\n",
    "\n",
    "### Syntax\n",
    "    w = pd.DataFrame({'Key':'Values'})\n",
    "    w.read_csv(\"filename.csv\")\n",
    "\n",
    "### Note:\n",
    "    We can use \"Shape\" attribbute to check how large DataFrame is.\n",
    "    If we wanted to pick automatically index from existing file index, we have to use \"index_col\" parameter."
   ]
  },
  {
   "cell_type": "code",
   "execution_count": 20,
   "id": "eef84beb",
   "metadata": {},
   "outputs": [
    {
     "data": {
      "text/html": [
       "<div>\n",
       "<style scoped>\n",
       "    .dataframe tbody tr th:only-of-type {\n",
       "        vertical-align: middle;\n",
       "    }\n",
       "\n",
       "    .dataframe tbody tr th {\n",
       "        vertical-align: top;\n",
       "    }\n",
       "\n",
       "    .dataframe thead th {\n",
       "        text-align: right;\n",
       "    }\n",
       "</style>\n",
       "<table border=\"1\" class=\"dataframe\">\n",
       "  <thead>\n",
       "    <tr style=\"text-align: right;\">\n",
       "      <th></th>\n",
       "      <th>Unnamed: 0</th>\n",
       "      <th>name</th>\n",
       "      <th>mark</th>\n",
       "      <th>city</th>\n",
       "      <th>Gender</th>\n",
       "    </tr>\n",
       "  </thead>\n",
       "  <tbody>\n",
       "    <tr>\n",
       "      <th>0</th>\n",
       "      <td>A</td>\n",
       "      <td>Jon</td>\n",
       "      <td>80</td>\n",
       "      <td>Mumbai</td>\n",
       "      <td>Male</td>\n",
       "    </tr>\n",
       "    <tr>\n",
       "      <th>1</th>\n",
       "      <td>B</td>\n",
       "      <td>Kevin</td>\n",
       "      <td>78</td>\n",
       "      <td>Banglore</td>\n",
       "      <td>Male</td>\n",
       "    </tr>\n",
       "    <tr>\n",
       "      <th>2</th>\n",
       "      <td>C</td>\n",
       "      <td>Oreo</td>\n",
       "      <td>75</td>\n",
       "      <td>Malad</td>\n",
       "      <td>Female</td>\n",
       "    </tr>\n",
       "    <tr>\n",
       "      <th>3</th>\n",
       "      <td>D</td>\n",
       "      <td>Alex</td>\n",
       "      <td>84</td>\n",
       "      <td>Dombivli</td>\n",
       "      <td>Male</td>\n",
       "    </tr>\n",
       "    <tr>\n",
       "      <th>4</th>\n",
       "      <td>E</td>\n",
       "      <td>Fake</td>\n",
       "      <td>82</td>\n",
       "      <td>Ghansoli</td>\n",
       "      <td>Female</td>\n",
       "    </tr>\n",
       "  </tbody>\n",
       "</table>\n",
       "</div>"
      ],
      "text/plain": [
       "  Unnamed: 0   name  mark      city  Gender\n",
       "0          A    Jon    80    Mumbai    Male\n",
       "1          B  Kevin    78  Banglore    Male\n",
       "2          C   Oreo    75     Malad  Female\n",
       "3          D   Alex    84  Dombivli    Male\n",
       "4          E   Fake    82  Ghansoli  Female"
      ]
     },
     "execution_count": 20,
     "metadata": {},
     "output_type": "execute_result"
    }
   ],
   "source": [
    "read = pd.read_csv('Dataset/result.csv')\n",
    "read"
   ]
  },
  {
   "cell_type": "code",
   "execution_count": 21,
   "id": "ee423b53",
   "metadata": {},
   "outputs": [
    {
     "data": {
      "text/html": [
       "<div>\n",
       "<style scoped>\n",
       "    .dataframe tbody tr th:only-of-type {\n",
       "        vertical-align: middle;\n",
       "    }\n",
       "\n",
       "    .dataframe tbody tr th {\n",
       "        vertical-align: top;\n",
       "    }\n",
       "\n",
       "    .dataframe thead th {\n",
       "        text-align: right;\n",
       "    }\n",
       "</style>\n",
       "<table border=\"1\" class=\"dataframe\">\n",
       "  <thead>\n",
       "    <tr style=\"text-align: right;\">\n",
       "      <th></th>\n",
       "      <th>name</th>\n",
       "      <th>mark</th>\n",
       "      <th>city</th>\n",
       "      <th>Gender</th>\n",
       "    </tr>\n",
       "  </thead>\n",
       "  <tbody>\n",
       "    <tr>\n",
       "      <th>A</th>\n",
       "      <td>Jon</td>\n",
       "      <td>80</td>\n",
       "      <td>Mumbai</td>\n",
       "      <td>Male</td>\n",
       "    </tr>\n",
       "    <tr>\n",
       "      <th>B</th>\n",
       "      <td>Kevin</td>\n",
       "      <td>78</td>\n",
       "      <td>Banglore</td>\n",
       "      <td>Male</td>\n",
       "    </tr>\n",
       "    <tr>\n",
       "      <th>C</th>\n",
       "      <td>Oreo</td>\n",
       "      <td>75</td>\n",
       "      <td>Malad</td>\n",
       "      <td>Female</td>\n",
       "    </tr>\n",
       "    <tr>\n",
       "      <th>D</th>\n",
       "      <td>Alex</td>\n",
       "      <td>84</td>\n",
       "      <td>Dombivli</td>\n",
       "      <td>Male</td>\n",
       "    </tr>\n",
       "    <tr>\n",
       "      <th>E</th>\n",
       "      <td>Fake</td>\n",
       "      <td>82</td>\n",
       "      <td>Ghansoli</td>\n",
       "      <td>Female</td>\n",
       "    </tr>\n",
       "  </tbody>\n",
       "</table>\n",
       "</div>"
      ],
      "text/plain": [
       "    name  mark      city  Gender\n",
       "A    Jon    80    Mumbai    Male\n",
       "B  Kevin    78  Banglore    Male\n",
       "C   Oreo    75     Malad  Female\n",
       "D   Alex    84  Dombivli    Male\n",
       "E   Fake    82  Ghansoli  Female"
      ]
     },
     "execution_count": 21,
     "metadata": {},
     "output_type": "execute_result"
    }
   ],
   "source": [
    "#If we wanted to pick automatically index from existing file index, we have to use \"index_col\" parameter.\n",
    "read = pd.read_csv('Dataset/result.csv', index_col = 0)\n",
    "read"
   ]
  },
  {
   "cell_type": "code",
   "execution_count": 22,
   "id": "cd188439",
   "metadata": {},
   "outputs": [
    {
     "data": {
      "text/plain": [
       "(5, 4)"
      ]
     },
     "execution_count": 22,
     "metadata": {},
     "output_type": "execute_result"
    }
   ],
   "source": [
    "#We can use \"Shape\" attribbute to check how large DataFrame is\n",
    "read.shape"
   ]
  },
  {
   "cell_type": "markdown",
   "id": "e3cc4c6b",
   "metadata": {},
   "source": [
    "#### We can see the above DataFrame contain 5 rows and 4 columns"
   ]
  },
  {
   "cell_type": "code",
   "execution_count": null,
   "id": "9f8ec8bf",
   "metadata": {},
   "outputs": [],
   "source": []
  }
 ],
 "metadata": {
  "kernelspec": {
   "display_name": "Python 3 (ipykernel)",
   "language": "python",
   "name": "python3"
  },
  "language_info": {
   "codemirror_mode": {
    "name": "ipython",
    "version": 3
   },
   "file_extension": ".py",
   "mimetype": "text/x-python",
   "name": "python",
   "nbconvert_exporter": "python",
   "pygments_lexer": "ipython3",
   "version": "3.11.0"
  }
 },
 "nbformat": 4,
 "nbformat_minor": 5
}
