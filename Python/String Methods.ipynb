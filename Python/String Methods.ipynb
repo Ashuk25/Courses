{
 "cells": [
  {
   "cell_type": "markdown",
   "id": "de3e7183",
   "metadata": {},
   "source": [
    "### 1) Count() Method\n",
    "     \n",
    "     If we want to find - how many time each word is appear we can use count()\n",
    "\n",
    "### Syntax:\n",
    "\n",
    "    string.count(value, start, end)\n",
    "    \n",
    "    value - The string to value to search for. This is reqired field\n",
    "    start - he position of string to start the search. Default is 0. This is optional field.\n",
    "    end   - The position to end the search. Default is the end of the string. This is optional field.\n"
   ]
  },
  {
   "cell_type": "code",
   "execution_count": 7,
   "id": "bc5dedba",
   "metadata": {},
   "outputs": [
    {
     "name": "stdout",
     "output_type": "stream",
     "text": [
      "{'o': 2, 't': 2, 's': 1, 'f': 2, 'm': 1, 'u': 1, 'l': 3, ',': 1, 'i': 2, 'e': 5, 'r': 3, 'a': 4, 'p': 4, 'y': 1, 'v': 2, 'I': 1, ' ': 7}\n"
     ]
    }
   ],
   "source": [
    "txt = \"I love apples, apple are my favorite fruit\"\n",
    "\n",
    "# list1 = []\n",
    "# list1[:0] = txt\n",
    "\n",
    "dict1 = {}\n",
    "\n",
    "# print(list1)\n",
    "\n",
    "# unique = list(set(list1))\n",
    "unique = list(set(txt))\n",
    "\n",
    "# print(unique)\n",
    "\n",
    "for i in unique:\n",
    "    dict1[i] = txt.count(i)\n",
    "#   dict1[i] = list1.count(i)\n",
    "\n",
    "\n",
    "print(dict1)"
   ]
  },
  {
   "cell_type": "markdown",
   "id": "03cb4fbb",
   "metadata": {},
   "source": [
    "### 2) Join() Method:\n",
    "    The join() method takes all items in an iterable and joins them into one string. We can convert list, tuple, dict, set into a string using join().\n",
    "\n",
    "    A string must be specified as the separator.\n",
    "\n",
    "### Syntax\n",
    "\n",
    "     string.join(iterable)\n",
    "\n",
    "    iterable -\tAny iterable object where all the returned values are strings\n"
   ]
  },
  {
   "cell_type": "code",
   "execution_count": 12,
   "id": "2e246826",
   "metadata": {},
   "outputs": [
    {
     "name": "stdout",
     "output_type": "stream",
     "text": [
      "nameTESTcountry\n",
      "name country\n",
      "name$country\n"
     ]
    }
   ],
   "source": [
    "myDict = {\"name\": \"John\", \"country\": \"Norway\"}\n",
    "\n",
    "mySep = \"TEST\" #any character we can use\n",
    "\n",
    "x = mySep.join(myDict)\n",
    "y = ' '.join(myDict)\n",
    "z = '$'.join(myDict)\n",
    "\n",
    "\n",
    "print(x)\n",
    "print(y)\n",
    "print(z)\n",
    "\n",
    "#note - When using a dictionary as an iterable, the returned values are the keys, not the values."
   ]
  },
  {
   "cell_type": "code",
   "execution_count": 13,
   "id": "2fbed858",
   "metadata": {},
   "outputs": [
    {
     "name": "stdout",
     "output_type": "stream",
     "text": [
      "Rakesh Lax Kavin Abhi\n"
     ]
    }
   ],
   "source": [
    "mylist = ['Rakesh', 'Lax', 'Kavin', 'Abhi']\n",
    "\n",
    "joinx = ' '.join(mylist)\n",
    "print(joinx)"
   ]
  },
  {
   "cell_type": "markdown",
   "id": "457d8575",
   "metadata": {},
   "source": [
    "### 3) find() Method:\n",
    "\n",
    "    The find() method finds the first occurrence of the specified value.\n",
    "\n",
    "    The find() method returns -1 if the value is not found.\n",
    "    \n",
    "### Syntax\n",
    "\n",
    "    string.find(value, start, end)\n",
    "    \n",
    "    value - We can search word in the string or list.\n",
    "    start - Where to start the search. Default is 0\n",
    "    end - Where to end the search. Default is to the end of the string\n"
   ]
  },
  {
   "cell_type": "code",
   "execution_count": 14,
   "id": "0ebece77",
   "metadata": {},
   "outputs": [
    {
     "name": "stdout",
     "output_type": "stream",
     "text": [
      "15\n"
     ]
    }
   ],
   "source": [
    "txt = \"Hello, welcome to my world.\"\n",
    "\n",
    "x = txt.find(\"to\")\n",
    "\n",
    "print(x)"
   ]
  },
  {
   "cell_type": "code",
   "execution_count": 19,
   "id": "f1a8e58b",
   "metadata": {},
   "outputs": [
    {
     "name": "stdout",
     "output_type": "stream",
     "text": [
      "11\n"
     ]
    }
   ],
   "source": [
    "txt = \"Hello, welcome to my world.\"\n",
    "\n",
    "x = txt.find(\"o\",6,14)\n",
    "\n",
    "print(x)"
   ]
  },
  {
   "cell_type": "markdown",
   "id": "05df9aec",
   "metadata": {},
   "source": [
    "### 4) Index() Method:\n",
    "\n",
    "    The index() method finds the first occurrence of the specified value.\n",
    "\n",
    "    The index() method raises an exception if the value is not found.\n",
    "\n",
    "    The index() method is almost the same as the find() method, the only difference is that the find() method returns -1 if the value is not found. \n",
    "    \n",
    "### Syntax\n",
    "    string.index(value, start, end)\n",
    "    \n",
    "    value - We can search word in the string or list.\n",
    "    start - Where to start the search. Default is 0\n",
    "    end - Where to end the search. Default is to the end of the string\n"
   ]
  },
  {
   "cell_type": "code",
   "execution_count": 21,
   "id": "db1942b6",
   "metadata": {},
   "outputs": [
    {
     "name": "stdout",
     "output_type": "stream",
     "text": [
      "7\n"
     ]
    }
   ],
   "source": [
    "txt = \"Hello, welcome to my world.\"\n",
    "\n",
    "x = txt.index(\"w\")\n",
    "\n",
    "print(x)"
   ]
  },
  {
   "cell_type": "code",
   "execution_count": 22,
   "id": "85b3a1bc",
   "metadata": {},
   "outputs": [
    {
     "name": "stdout",
     "output_type": "stream",
     "text": [
      "8\n"
     ]
    }
   ],
   "source": [
    "txt = \"Hello, welcome to my world.\"\n",
    "\n",
    "x = txt.index(\"e\", 8, 10)\n",
    "\n",
    "print(x)"
   ]
  },
  {
   "cell_type": "code",
   "execution_count": 24,
   "id": "fcfcc811",
   "metadata": {},
   "outputs": [
    {
     "name": "stdout",
     "output_type": "stream",
     "text": [
      "-1\n"
     ]
    },
    {
     "ename": "ValueError",
     "evalue": "substring not found",
     "output_type": "error",
     "traceback": [
      "\u001b[1;31m---------------------------------------------------------------------------\u001b[0m",
      "\u001b[1;31mValueError\u001b[0m                                Traceback (most recent call last)",
      "Cell \u001b[1;32mIn[24], line 4\u001b[0m\n\u001b[0;32m      1\u001b[0m txt \u001b[38;5;241m=\u001b[39m \u001b[38;5;124m\"\u001b[39m\u001b[38;5;124mHello, welcome to my world.\u001b[39m\u001b[38;5;124m\"\u001b[39m\n\u001b[0;32m      3\u001b[0m \u001b[38;5;28mprint\u001b[39m(txt\u001b[38;5;241m.\u001b[39mfind(\u001b[38;5;124m\"\u001b[39m\u001b[38;5;124mq\u001b[39m\u001b[38;5;124m\"\u001b[39m)) \n\u001b[1;32m----> 4\u001b[0m \u001b[38;5;28mprint\u001b[39m(\u001b[43mtxt\u001b[49m\u001b[38;5;241;43m.\u001b[39;49m\u001b[43mindex\u001b[49m\u001b[43m(\u001b[49m\u001b[38;5;124;43m\"\u001b[39;49m\u001b[38;5;124;43mq\u001b[39;49m\u001b[38;5;124;43m\"\u001b[39;49m\u001b[43m)\u001b[49m)\n\u001b[0;32m      6\u001b[0m \u001b[38;5;66;03m# If the value is not found, the find() method returns -1, but the index() method will raise an exception:\u001b[39;00m\n",
      "\u001b[1;31mValueError\u001b[0m: substring not found"
     ]
    }
   ],
   "source": [
    "txt = \"Hello, welcome to my world.\"\n",
    "\n",
    "print(txt.find(\"q\")) \n",
    "print(txt.index(\"q\"))\n",
    "\n",
    "# If the value is not found, the find() method returns -1, but the index() method will raise an exception:"
   ]
  },
  {
   "cell_type": "markdown",
   "id": "e33d8464",
   "metadata": {},
   "source": [
    "### 5) format() Method\n",
    "\n",
    "    The format() method formats the specified value(s) and insert them inside the string's placeholder.\n",
    "    The placeholder is defined using curly brackets: {}. \n",
    "    The format() method returns the formatted string.\n",
    "\n",
    "### Syntax\n",
    "    string.format(value1, value2...)\n",
    "    \n",
    "    value1, value2... -\tRequired. One or more values that should be formatted and inserted in the string.\n",
    "\n",
    "    The values are either a list of values separated by commas, a key=value list, or a combination of both.\n",
    "\n",
    "    The values can be of any data type.\n",
    "\n",
    "### Placeholder\n",
    "    The placeholders can be identified using named indexes {price}, numbered indexes {0}, or even empty placeholders {}."
   ]
  },
  {
   "cell_type": "code",
   "execution_count": 26,
   "id": "05a7ef47",
   "metadata": {},
   "outputs": [
    {
     "name": "stdout",
     "output_type": "stream",
     "text": [
      "My name is John, I'm 36\n",
      "My name is John, I'm 36\n",
      "My name is John, I'm 36\n"
     ]
    }
   ],
   "source": [
    "txt1 = \"My name is {fname}, I'm {age}\".format(fname = \"John\", age = 36)\n",
    "txt2 = \"My name is {0}, I'm {1}\".format(\"John\",36)\n",
    "txt3 = \"My name is {}, I'm {}\".format(\"John\",36)\n",
    "\n",
    "print(txt1)\n",
    "print(txt2)\n",
    "print(txt3)"
   ]
  },
  {
   "cell_type": "code",
   "execution_count": null,
   "id": "25b9eebb",
   "metadata": {},
   "outputs": [],
   "source": []
  }
 ],
 "metadata": {
  "kernelspec": {
   "display_name": "Python 3 (ipykernel)",
   "language": "python",
   "name": "python3"
  },
  "language_info": {
   "codemirror_mode": {
    "name": "ipython",
    "version": 3
   },
   "file_extension": ".py",
   "mimetype": "text/x-python",
   "name": "python",
   "nbconvert_exporter": "python",
   "pygments_lexer": "ipython3",
   "version": "3.11.0"
  }
 },
 "nbformat": 4,
 "nbformat_minor": 5
}
