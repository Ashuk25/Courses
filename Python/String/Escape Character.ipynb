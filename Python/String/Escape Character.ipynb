{
 "cells": [
  {
   "cell_type": "markdown",
   "id": "4a17e4d6",
   "metadata": {},
   "source": [
    "### Escape Character\n",
    "\n",
    "    To insert characters that are illegal in a string, use an escape character.\n",
    "\n",
    "    An escape character is a backslash \\ followed by the character you want to insert.\n",
    "\n",
    "    An example of an illegal character is a double quote inside a string that is surrounded by double quotes:"
   ]
  },
  {
   "cell_type": "code",
   "execution_count": 1,
   "id": "01786b58",
   "metadata": {},
   "outputs": [
    {
     "ename": "SyntaxError",
     "evalue": "invalid syntax (2582376115.py, line 3)",
     "output_type": "error",
     "traceback": [
      "\u001b[1;36m  Cell \u001b[1;32mIn[1], line 3\u001b[1;36m\u001b[0m\n\u001b[1;33m    txt = \"We are \"Students\".\"\u001b[0m\n\u001b[1;37m                   ^\u001b[0m\n\u001b[1;31mSyntaxError\u001b[0m\u001b[1;31m:\u001b[0m invalid syntax\n"
     ]
    }
   ],
   "source": [
    "#we will get an error if we use double quotes inside a string that is surrounded by double quotes:\n",
    "\n",
    "txt = \"We are \"Students\".\""
   ]
  },
  {
   "cell_type": "code",
   "execution_count": 2,
   "id": "e610e41f",
   "metadata": {},
   "outputs": [
    {
     "name": "stdout",
     "output_type": "stream",
     "text": [
      "We are \"Students\".\n"
     ]
    }
   ],
   "source": [
    "#To fix the above problem, use the escape character \\\":\n",
    "txt = \"We are \\\"Students\\\".\"\n",
    "print(txt)"
   ]
  },
  {
   "cell_type": "markdown",
   "id": "9e939556",
   "metadata": {},
   "source": [
    "### Other escape characters used in Python:"
   ]
  },
  {
   "cell_type": "code",
   "execution_count": 3,
   "id": "1b494e20",
   "metadata": {},
   "outputs": [
    {
     "name": "stdout",
     "output_type": "stream",
     "text": [
      "It's alright.\n"
     ]
    }
   ],
   "source": [
    "# for Single Quote\n",
    "txt = 'It\\'s alright.'\n",
    "print(txt) \n"
   ]
  },
  {
   "cell_type": "code",
   "execution_count": 4,
   "id": "f80a7e66",
   "metadata": {},
   "outputs": [
    {
     "name": "stdout",
     "output_type": "stream",
     "text": [
      "This will insert one \\ (backslash).\n"
     ]
    }
   ],
   "source": [
    "#for Backslash\n",
    "txt = \"This will insert one \\\\ (backslash).\"\n",
    "print(txt) \n"
   ]
  },
  {
   "cell_type": "code",
   "execution_count": 5,
   "id": "373aa1da",
   "metadata": {},
   "outputs": [
    {
     "name": "stdout",
     "output_type": "stream",
     "text": [
      "Hello\n",
      "World!\n"
     ]
    }
   ],
   "source": [
    "#for New Line\n",
    "txt = \"Hello\\nWorld!\"\n",
    "print(txt) "
   ]
  },
  {
   "cell_type": "code",
   "execution_count": 6,
   "id": "369485df",
   "metadata": {},
   "outputs": [
    {
     "name": "stdout",
     "output_type": "stream",
     "text": [
      "Hello \r",
      " World!\n"
     ]
    }
   ],
   "source": [
    "# for Carriage Return\n",
    "txt = \"Hello \\r World!\"\n",
    "print(txt) "
   ]
  },
  {
   "cell_type": "code",
   "execution_count": 7,
   "id": "a7c0cfac",
   "metadata": {},
   "outputs": [
    {
     "name": "stdout",
     "output_type": "stream",
     "text": [
      "Hello\tWorld!\n"
     ]
    }
   ],
   "source": [
    "# for Tab\n",
    "txt = \"Hello\\tWorld!\"\n",
    "print(txt) \n"
   ]
  },
  {
   "cell_type": "code",
   "execution_count": 8,
   "id": "71d0f959",
   "metadata": {},
   "outputs": [
    {
     "name": "stdout",
     "output_type": "stream",
     "text": [
      "Hello \bWorld!\n"
     ]
    }
   ],
   "source": [
    "# for Backspace\n",
    "#This example erases one character (backspace):\n",
    "txt = \"Hello \\bWorld!\"\n",
    "print(txt) "
   ]
  },
  {
   "cell_type": "code",
   "execution_count": 9,
   "id": "a8aee41d",
   "metadata": {},
   "outputs": [
    {
     "name": "stdout",
     "output_type": "stream",
     "text": [
      "Hello\n"
     ]
    }
   ],
   "source": [
    "# for Octal value\n",
    "#A backslash followed by three integers will result in a octal value:\n",
    "txt = \"\\110\\145\\154\\154\\157\"\n",
    "print(txt) \n",
    "\n"
   ]
  },
  {
   "cell_type": "code",
   "execution_count": 10,
   "id": "be0cd6c9",
   "metadata": {},
   "outputs": [
    {
     "name": "stdout",
     "output_type": "stream",
     "text": [
      "Hello\n"
     ]
    }
   ],
   "source": [
    "# Hex value\n",
    "#A backslash followed by an 'x' and a hex number represents a hex value:\n",
    "txt = \"\\x48\\x65\\x6c\\x6c\\x6f\"\n",
    "print(txt) \n"
   ]
  },
  {
   "cell_type": "code",
   "execution_count": null,
   "id": "820fdf9c",
   "metadata": {},
   "outputs": [],
   "source": []
  },
  {
   "cell_type": "code",
   "execution_count": null,
   "id": "426c0f4d",
   "metadata": {},
   "outputs": [],
   "source": []
  },
  {
   "cell_type": "code",
   "execution_count": null,
   "id": "822903ae",
   "metadata": {},
   "outputs": [],
   "source": []
  }
 ],
 "metadata": {
  "kernelspec": {
   "display_name": "Python 3 (ipykernel)",
   "language": "python",
   "name": "python3"
  },
  "language_info": {
   "codemirror_mode": {
    "name": "ipython",
    "version": 3
   },
   "file_extension": ".py",
   "mimetype": "text/x-python",
   "name": "python",
   "nbconvert_exporter": "python",
   "pygments_lexer": "ipython3",
   "version": "3.11.0"
  }
 },
 "nbformat": 4,
 "nbformat_minor": 5
}
