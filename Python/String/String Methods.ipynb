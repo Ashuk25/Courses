{
 "cells": [
  {
   "cell_type": "markdown",
   "id": "44d45547",
   "metadata": {},
   "source": [
    "### 1) capitalize() Method\n",
    "    The capitalize() method returns a string where the first character is upper case, and the rest is lower case.\n",
    "### Syntax\n",
    "    string.capitalize()"
   ]
  },
  {
   "cell_type": "code",
   "execution_count": 1,
   "id": "932efba3",
   "metadata": {},
   "outputs": [
    {
     "name": "stdout",
     "output_type": "stream",
     "text": [
      "Python is fun!\n"
     ]
    }
   ],
   "source": [
    "txt = \"python is FUN!\"\n",
    "\n",
    "x = txt.capitalize()\n",
    "\n",
    "print (x)"
   ]
  },
  {
   "cell_type": "markdown",
   "id": "de3e7183",
   "metadata": {},
   "source": [
    "### 2) Count() Method\n",
    "     \n",
    "     If we want to find - how many time each word is appear we can use count()\n",
    "\n",
    "### Syntax:\n",
    "\n",
    "    string.count(value, start, end)\n",
    "    \n",
    "    value - The string to value to search for. This is reqired field\n",
    "    start - he position of string to start the search. Default is 0. This is optional field.\n",
    "    end   - The position to end the search. Default is the end of the string. This is optional field.\n"
   ]
  },
  {
   "cell_type": "code",
   "execution_count": 2,
   "id": "bc5dedba",
   "metadata": {},
   "outputs": [
    {
     "name": "stdout",
     "output_type": "stream",
     "text": [
      "{'y': 1, 'i': 2, 'e': 5, 't': 2, 'l': 3, 'a': 4, 'I': 1, 'm': 1, 'u': 1, ' ': 7, 'v': 2, 'o': 2, ',': 1, 'f': 2, 'p': 4, 's': 1, 'r': 3}\n"
     ]
    }
   ],
   "source": [
    "txt = \"I love apples, apple are my favorite fruit\"\n",
    "\n",
    "# list1 = []\n",
    "# list1[:0] = txt\n",
    "\n",
    "dict1 = {}\n",
    "\n",
    "# print(list1)\n",
    "\n",
    "# unique = list(set(list1))\n",
    "unique = list(set(txt))\n",
    "\n",
    "# print(unique)\n",
    "\n",
    "for i in unique:\n",
    "    dict1[i] = txt.count(i)\n",
    "#   dict1[i] = list1.count(i)\n",
    "\n",
    "\n",
    "print(dict1)"
   ]
  },
  {
   "cell_type": "markdown",
   "id": "03cb4fbb",
   "metadata": {},
   "source": [
    "### 3) Join() Method:\n",
    "    The join() method takes all items in an iterable and joins them into one string. We can convert list, tuple, dict, set into a string using join().\n",
    "\n",
    "    A string must be specified as the separator.\n",
    "\n",
    "### Syntax\n",
    "\n",
    "     string.join(iterable)\n",
    "\n",
    "    iterable -\tAny iterable object where all the returned values are strings\n"
   ]
  },
  {
   "cell_type": "code",
   "execution_count": 3,
   "id": "2e246826",
   "metadata": {},
   "outputs": [
    {
     "name": "stdout",
     "output_type": "stream",
     "text": [
      "nameTESTcountry\n",
      "name country\n",
      "name$country\n"
     ]
    }
   ],
   "source": [
    "myDict = {\"name\": \"John\", \"country\": \"Norway\"}\n",
    "\n",
    "mySep = \"TEST\" #any character we can use\n",
    "\n",
    "x = mySep.join(myDict)\n",
    "y = ' '.join(myDict)\n",
    "z = '$'.join(myDict)\n",
    "\n",
    "\n",
    "print(x)\n",
    "print(y)\n",
    "print(z)\n",
    "\n",
    "#note - When using a dictionary as an iterable, the returned values are the keys, not the values."
   ]
  },
  {
   "cell_type": "code",
   "execution_count": 4,
   "id": "2fbed858",
   "metadata": {},
   "outputs": [
    {
     "name": "stdout",
     "output_type": "stream",
     "text": [
      "Rakesh Lax Kavin Abhi\n"
     ]
    }
   ],
   "source": [
    "mylist = ['Rakesh', 'Lax', 'Kavin', 'Abhi']\n",
    "\n",
    "joinx = ' '.join(mylist)\n",
    "print(joinx)"
   ]
  },
  {
   "cell_type": "markdown",
   "id": "383dbd74",
   "metadata": {},
   "source": [
    "### We can also reverse a string by using  join() and reversed function."
   ]
  },
  {
   "cell_type": "code",
   "execution_count": 5,
   "id": "b5593150",
   "metadata": {},
   "outputs": [
    {
     "name": "stdout",
     "output_type": "stream",
     "text": [
      "dlrowolleh\n"
     ]
    }
   ],
   "source": [
    "words = \"helloworld\"\n",
    "\n",
    "reversedword = \"\".join(reversed(words))\n",
    "print(reversedword)"
   ]
  },
  {
   "cell_type": "markdown",
   "id": "457d8575",
   "metadata": {},
   "source": [
    "### 4) find() Method:\n",
    "\n",
    "    The find() method finds the first occurrence of the specified value.\n",
    "\n",
    "    The find() method returns -1 if the value is not found.\n",
    "    \n",
    "### Syntax\n",
    "\n",
    "    string.find(value, start, end)\n",
    "    \n",
    "    value - We can search word in the string or list.\n",
    "    start - Where to start the search. Default is 0\n",
    "    end - Where to end the search. Default is to the end of the string\n"
   ]
  },
  {
   "cell_type": "code",
   "execution_count": 6,
   "id": "0ebece77",
   "metadata": {},
   "outputs": [
    {
     "name": "stdout",
     "output_type": "stream",
     "text": [
      "15\n"
     ]
    }
   ],
   "source": [
    "txt = \"Hello, welcome to my world.\"\n",
    "\n",
    "x = txt.find(\"to\")\n",
    "\n",
    "print(x)"
   ]
  },
  {
   "cell_type": "code",
   "execution_count": 7,
   "id": "f1a8e58b",
   "metadata": {},
   "outputs": [
    {
     "name": "stdout",
     "output_type": "stream",
     "text": [
      "11\n"
     ]
    }
   ],
   "source": [
    "txt = \"Hello, welcome to my world.\"\n",
    "\n",
    "x = txt.find(\"o\",6,14)\n",
    "\n",
    "print(x)"
   ]
  },
  {
   "cell_type": "markdown",
   "id": "05df9aec",
   "metadata": {},
   "source": [
    "### 5) Index() Method:\n",
    "\n",
    "    The index() method finds the first occurrence of the specified value.\n",
    "\n",
    "    The index() method raises an exception if the value is not found.\n",
    "\n",
    "    The index() method is almost the same as the find() method, the only difference is that the find() method returns -1 if the value is not found. \n",
    "    \n",
    "### Syntax\n",
    "    string.index(value, start, end)\n",
    "    \n",
    "    value - We can search word in the string or list.\n",
    "    start - Where to start the search. Default is 0\n",
    "    end - Where to end the search. Default is to the end of the string\n"
   ]
  },
  {
   "cell_type": "code",
   "execution_count": 8,
   "id": "db1942b6",
   "metadata": {},
   "outputs": [
    {
     "name": "stdout",
     "output_type": "stream",
     "text": [
      "7\n"
     ]
    }
   ],
   "source": [
    "txt = \"Hello, welcome to my world.\"\n",
    "\n",
    "x = txt.index(\"w\")\n",
    "\n",
    "print(x)"
   ]
  },
  {
   "cell_type": "code",
   "execution_count": 9,
   "id": "85b3a1bc",
   "metadata": {},
   "outputs": [
    {
     "name": "stdout",
     "output_type": "stream",
     "text": [
      "8\n"
     ]
    }
   ],
   "source": [
    "txt = \"Hello, welcome to my world.\"\n",
    "\n",
    "x = txt.index(\"e\", 8, 10)\n",
    "\n",
    "print(x)"
   ]
  },
  {
   "cell_type": "code",
   "execution_count": 10,
   "id": "fcfcc811",
   "metadata": {},
   "outputs": [
    {
     "name": "stdout",
     "output_type": "stream",
     "text": [
      "-1\n"
     ]
    },
    {
     "ename": "ValueError",
     "evalue": "substring not found",
     "output_type": "error",
     "traceback": [
      "\u001b[1;31m---------------------------------------------------------------------------\u001b[0m",
      "\u001b[1;31mValueError\u001b[0m                                Traceback (most recent call last)",
      "Cell \u001b[1;32mIn[10], line 4\u001b[0m\n\u001b[0;32m      1\u001b[0m txt \u001b[38;5;241m=\u001b[39m \u001b[38;5;124m\"\u001b[39m\u001b[38;5;124mHello, welcome to my world.\u001b[39m\u001b[38;5;124m\"\u001b[39m\n\u001b[0;32m      3\u001b[0m \u001b[38;5;28mprint\u001b[39m(txt\u001b[38;5;241m.\u001b[39mfind(\u001b[38;5;124m\"\u001b[39m\u001b[38;5;124mq\u001b[39m\u001b[38;5;124m\"\u001b[39m)) \n\u001b[1;32m----> 4\u001b[0m \u001b[38;5;28mprint\u001b[39m(\u001b[43mtxt\u001b[49m\u001b[38;5;241;43m.\u001b[39;49m\u001b[43mindex\u001b[49m\u001b[43m(\u001b[49m\u001b[38;5;124;43m\"\u001b[39;49m\u001b[38;5;124;43mq\u001b[39;49m\u001b[38;5;124;43m\"\u001b[39;49m\u001b[43m)\u001b[49m)\n\u001b[0;32m      6\u001b[0m \u001b[38;5;66;03m# If the value is not found, the find() method returns -1, but the index() method will raise an exception:\u001b[39;00m\n",
      "\u001b[1;31mValueError\u001b[0m: substring not found"
     ]
    }
   ],
   "source": [
    "txt = \"Hello, welcome to my world.\"\n",
    "\n",
    "print(txt.find(\"q\")) \n",
    "print(txt.index(\"q\"))\n",
    "\n",
    "# If the value is not found, the find() method returns -1, but the index() method will raise an exception:"
   ]
  },
  {
   "cell_type": "markdown",
   "id": "e33d8464",
   "metadata": {},
   "source": [
    "### 6) format() Method\n",
    "\n",
    "    The format() method formats the specified value(s) and insert them inside the string's placeholder.\n",
    "    The placeholder is defined using curly brackets: {}. \n",
    "    The format() method returns the formatted string.\n",
    "\n",
    "### Syntax\n",
    "    string.format(value1, value2...)\n",
    "    \n",
    "    value1, value2... -\tRequired. One or more values that should be formatted and inserted in the string.\n",
    "\n",
    "    The values are either a list of values separated by commas, a key=value list, or a combination of both.\n",
    "\n",
    "    The values can be of any data type.\n",
    "\n",
    "### Placeholder\n",
    "    The placeholders can be identified using named indexes {price}, numbered indexes {0}, or even empty placeholders {}."
   ]
  },
  {
   "cell_type": "code",
   "execution_count": 11,
   "id": "05a7ef47",
   "metadata": {},
   "outputs": [
    {
     "name": "stdout",
     "output_type": "stream",
     "text": [
      "My name is John, I'm 36\n",
      "My name is John, I'm 36\n",
      "My name is John, I'm 36\n"
     ]
    }
   ],
   "source": [
    "txt1 = \"My name is {fname}, I'm {age}\".format(fname = \"John\", age = 36)\n",
    "txt2 = \"My name is {0}, I'm {1}\".format(\"John\",36)\n",
    "txt3 = \"My name is {}, I'm {}\".format(\"John\",36)\n",
    "\n",
    "print(txt1)\n",
    "print(txt2)\n",
    "print(txt3)"
   ]
  },
  {
   "cell_type": "markdown",
   "id": "4417ce8b",
   "metadata": {},
   "source": [
    "### 7) upper() Method\n",
    "\n",
    "    The upper() method returns the string in upper case:\n",
    "### Syntax:\n",
    "\n",
    "    string.upper()"
   ]
  },
  {
   "cell_type": "code",
   "execution_count": 12,
   "id": "633cdd3e",
   "metadata": {},
   "outputs": [
    {
     "name": "stdout",
     "output_type": "stream",
     "text": [
      "HELLO\n"
     ]
    }
   ],
   "source": [
    "a = \"Hello\"\n",
    "print(a.upper())"
   ]
  },
  {
   "cell_type": "markdown",
   "id": "ee653ea2",
   "metadata": {},
   "source": [
    "### 8) lower() Method\n",
    "\n",
    "    The lower() method returns the string in lower case:\n",
    "### Syntax:\n",
    "\n",
    "    string.lower()"
   ]
  },
  {
   "cell_type": "code",
   "execution_count": 13,
   "id": "de62a0e7",
   "metadata": {},
   "outputs": [
    {
     "name": "stdout",
     "output_type": "stream",
     "text": [
      "hello\n"
     ]
    }
   ],
   "source": [
    "a = \"Hello\"\n",
    "print(a.lower())"
   ]
  },
  {
   "cell_type": "markdown",
   "id": "65194837",
   "metadata": {},
   "source": [
    "### 9) replace() Method\n",
    "    The replace() method replaces a string with another string.\n",
    "### Syntax\n",
    "    string.replace(\"old_string\",\"new_string\")"
   ]
  },
  {
   "cell_type": "code",
   "execution_count": 14,
   "id": "e00ff687",
   "metadata": {},
   "outputs": [
    {
     "name": "stdout",
     "output_type": "stream",
     "text": [
      "Hekko, Workd!\n"
     ]
    }
   ],
   "source": [
    "a = \"Hello, World!\"\n",
    "print(a.replace(\"l\", \"k\"))"
   ]
  },
  {
   "cell_type": "markdown",
   "id": "da4ef6f7",
   "metadata": {},
   "source": [
    "### 10) split() Method\n",
    "    The split() method returns a list where the text between the specified separator becomes the list items. It will be anythings - \",\",\" \" etc\n",
    "    he split() method splits the string into substrings if it finds instances of the separator.\n",
    "### Syntax:\n",
    "    string.split(\",\") # here we can use any separator who separate the string and become list."
   ]
  },
  {
   "cell_type": "code",
   "execution_count": 15,
   "id": "6745461c",
   "metadata": {},
   "outputs": [
    {
     "name": "stdout",
     "output_type": "stream",
     "text": [
      "['Hello', ' World!']\n"
     ]
    }
   ],
   "source": [
    "a = \"Hello, World!\"\n",
    "print(a.split(\",\"))"
   ]
  },
  {
   "cell_type": "markdown",
   "id": "53166ae0",
   "metadata": {},
   "source": [
    "### 11) strip() Method\n",
    "\n",
    "    The strip() is use to \"Remove Whitespace\" from the beginning or the end of the string.\n",
    "### Syntax\n",
    "    string.strip()"
   ]
  },
  {
   "cell_type": "code",
   "execution_count": 16,
   "id": "38bb99b6",
   "metadata": {},
   "outputs": [
    {
     "name": "stdout",
     "output_type": "stream",
     "text": [
      "Hello, World!\n"
     ]
    }
   ],
   "source": [
    "a = \" Hello, World! \"\n",
    "print(a.strip())"
   ]
  },
  {
   "cell_type": "markdown",
   "id": "d32bed23",
   "metadata": {},
   "source": [
    "### 12) lstrip() Method\n",
    "\n",
    "    The lstrip() method removes any leading characters (space is the default leading character to remove).\n",
    "    It is remove the lest side space.\n",
    "### Syntax\n",
    "    string.lstrip(characters)\n",
    "    \n",
    "    characters - Optional. A set of characters to remove as leading characters"
   ]
  },
  {
   "cell_type": "code",
   "execution_count": 17,
   "id": "7722bb92",
   "metadata": {},
   "outputs": [
    {
     "name": "stdout",
     "output_type": "stream",
     "text": [
      "of all fruits banana      is my favorite\n"
     ]
    }
   ],
   "source": [
    "#Remove spaces to the left of the string:\n",
    "txt = \"     banana     \"\n",
    "\n",
    "x = txt.lstrip()\n",
    "\n",
    "print(\"of all fruits\", x, \"is my favorite\")"
   ]
  },
  {
   "cell_type": "code",
   "execution_count": 18,
   "id": "a9605291",
   "metadata": {},
   "outputs": [
    {
     "name": "stdout",
     "output_type": "stream",
     "text": [
      "banana\n"
     ]
    }
   ],
   "source": [
    "#Remove the leading characters:\n",
    "txt = \",,,,,ssaaww.....banana\"\n",
    "\n",
    "x = txt.lstrip(\",.saw\")\n",
    "\n",
    "print(x)"
   ]
  },
  {
   "cell_type": "markdown",
   "id": "ef68d94c",
   "metadata": {},
   "source": [
    "### 13) rstrip()\n",
    "\n",
    "    The rstrip() method removes any trailing characters (characters at the end a string), space is the default trailing character to remove.\n",
    "\n",
    "### Syntax\n",
    "    string.rstrip(characters)"
   ]
  },
  {
   "cell_type": "code",
   "execution_count": 19,
   "id": "b93abf46",
   "metadata": {},
   "outputs": [
    {
     "name": "stdout",
     "output_type": "stream",
     "text": [
      "of all fruits      banana is my favorite\n"
     ]
    }
   ],
   "source": [
    "#Remove any white spaces at the end of the string:\n",
    "txt = \"     banana     \"\n",
    "\n",
    "x = txt.rstrip()\n",
    "\n",
    "print(\"of all fruits\", x, \"is my favorite\")"
   ]
  },
  {
   "cell_type": "code",
   "execution_count": 20,
   "id": "f8dc1079",
   "metadata": {},
   "outputs": [
    {
     "name": "stdout",
     "output_type": "stream",
     "text": [
      "banana\n"
     ]
    }
   ],
   "source": [
    "#Remove the trailing characters if they are commas, s, q, or w:\n",
    "txt = \"banana,,,,,ssqqqww.....\"\n",
    "\n",
    "x = txt.rstrip(\",.qsw\")\n",
    "\n",
    "print(x)"
   ]
  },
  {
   "cell_type": "markdown",
   "id": "6ab2820a",
   "metadata": {},
   "source": [
    "### 14) startswith() Method\n",
    "    The startswith() method returns True if the string starts with the specified value, otherwise False.\n",
    "### Syntax\n",
    "    string.startswith(value, start, end)\n",
    "    value - The value to check if the string starts with. This is required field.\n",
    "    start - An Integer specifying at which position to start the search. This is optional field.\n",
    "    end - An Integer specifying at which position to end the search. This is optional field."
   ]
  },
  {
   "cell_type": "code",
   "execution_count": 21,
   "id": "78cd0db8",
   "metadata": {},
   "outputs": [
    {
     "name": "stdout",
     "output_type": "stream",
     "text": [
      "True\n"
     ]
    }
   ],
   "source": [
    "txt = \"Hello, welcome to my world.\"\n",
    "\n",
    "x = txt.startswith(\"Hello\")\n",
    "\n",
    "print(x)"
   ]
  },
  {
   "cell_type": "code",
   "execution_count": 22,
   "id": "144ab1e1",
   "metadata": {},
   "outputs": [
    {
     "name": "stdout",
     "output_type": "stream",
     "text": [
      "True\n"
     ]
    }
   ],
   "source": [
    "txt = \"Hello, welcome to my world.\"\n",
    "\n",
    "x = txt.startswith(\"wel\", 7, 20)\n",
    "\n",
    "print(x)"
   ]
  },
  {
   "cell_type": "markdown",
   "id": "cb561a0f",
   "metadata": {},
   "source": [
    "### 15) endswith() Method\n",
    "\n",
    "The endswith() method returns True if the string ends with the specified value, otherwise False.\n",
    "\n",
    "### Syntax\n",
    "    string.endswith(value, start, end)\n",
    "    value - Required. The value to check if the string ends with\n",
    "    start - Optional. An Integer specifying at which position to start the search\n",
    "    end - Optional. An Integer specifying at which position to end the search"
   ]
  },
  {
   "cell_type": "code",
   "execution_count": 23,
   "id": "5de4de39",
   "metadata": {},
   "outputs": [
    {
     "name": "stdout",
     "output_type": "stream",
     "text": [
      "True\n"
     ]
    }
   ],
   "source": [
    "#Check if the string ends with the phrase \"my world.\":\n",
    "txt = \"Hello, welcome to my world.\"\n",
    "\n",
    "x = txt.endswith(\"my world.\")\n",
    "\n",
    "print(x)"
   ]
  },
  {
   "cell_type": "code",
   "execution_count": 24,
   "id": "0d757578",
   "metadata": {},
   "outputs": [
    {
     "name": "stdout",
     "output_type": "stream",
     "text": [
      "False\n"
     ]
    }
   ],
   "source": [
    "#Check if position 5 to 11 ends with the phrase \"my world.\":\n",
    "\n",
    "txt = \"Hello, welcome to my world.\"\n",
    "\n",
    "x = txt.endswith(\"my world.\", 5, 11)\n",
    "\n",
    "print(x)"
   ]
  },
  {
   "cell_type": "markdown",
   "id": "dfa3e69a",
   "metadata": {},
   "source": [
    "### 16) zfill() method\n",
    "\n",
    "    The zfill() method adds zeros (0) at the beginning of the string, until it reaches the specified length.\n",
    "\n",
    "    If the value of the len parameter is less than the length of the string, no filling is done.\n",
    "\n",
    "### Syntax\n",
    "    string.zfill(len)\n",
    "    len - Required. A number specifying the desired length of the string"
   ]
  },
  {
   "cell_type": "code",
   "execution_count": 25,
   "id": "16e7f8aa",
   "metadata": {},
   "outputs": [
    {
     "name": "stdout",
     "output_type": "stream",
     "text": [
      "00000hello\n",
      "welcome to the jungle\n",
      "000010.000\n"
     ]
    }
   ],
   "source": [
    "a = \"hello\"\n",
    "b = \"welcome to the jungle\" # the length of the string is greater here\n",
    "c = \"10.000\"\n",
    "\n",
    "print(a.zfill(10))\n",
    "print(b.zfill(10))\n",
    "print(c.zfill(10))"
   ]
  },
  {
   "cell_type": "markdown",
   "id": "833e2dbc",
   "metadata": {},
   "source": [
    "### 17) isalnum() Method\n",
    "    The isalnum() method returns True if all the characters are alphanumeric, meaning alphabet letter (a-z) and numbers (0-9).\n",
    "\n",
    "    Example of characters that are not alphanumeric: (space)!#%&? etc.\n",
    "### Syntax\n",
    "    string.isalnum()\n",
    "\n"
   ]
  },
  {
   "cell_type": "code",
   "execution_count": 26,
   "id": "36e2b333",
   "metadata": {},
   "outputs": [
    {
     "name": "stdout",
     "output_type": "stream",
     "text": [
      "True\n"
     ]
    }
   ],
   "source": [
    "# Below code print True. Because there is no special character\n",
    "txt = \"Company12\"\n",
    "\n",
    "x = txt.isalnum()\n",
    "\n",
    "print(x)"
   ]
  },
  {
   "cell_type": "code",
   "execution_count": 27,
   "id": "b0ddc81d",
   "metadata": {},
   "outputs": [
    {
     "name": "stdout",
     "output_type": "stream",
     "text": [
      "False\n"
     ]
    }
   ],
   "source": [
    "# Below code print False. Because there is a special character(space between Company and 12)\n",
    "txt = \"Company 12\"\n",
    "\n",
    "x = txt.isalnum()\n",
    "\n",
    "print(x)"
   ]
  },
  {
   "cell_type": "markdown",
   "id": "57b31748",
   "metadata": {},
   "source": [
    "### 18) isalpha() Method\n",
    "    The isalpha() method returns True if all the characters are alphabet letters (a-z).\n",
    "\n",
    "    Example of characters that are not alphabet letters: 123(space)!#%&? etc.\n",
    "\n",
    "### Syntax\n",
    "    string.isalpha()"
   ]
  },
  {
   "cell_type": "code",
   "execution_count": 28,
   "id": "99117c22",
   "metadata": {},
   "outputs": [
    {
     "name": "stdout",
     "output_type": "stream",
     "text": [
      "True\n"
     ]
    }
   ],
   "source": [
    "# Below code print True. Because there is no special or numeric character\n",
    "txt = \"CompanyX\"\n",
    "\n",
    "x = txt.isalpha()\n",
    "\n",
    "print(x)"
   ]
  },
  {
   "cell_type": "code",
   "execution_count": 29,
   "id": "6179ef1f",
   "metadata": {},
   "outputs": [
    {
     "name": "stdout",
     "output_type": "stream",
     "text": [
      "False\n"
     ]
    }
   ],
   "source": [
    "# Below code print False. Because there is special or numeric character\n",
    "txt = \"Company10\"\n",
    "\n",
    "x = txt.isalpha()\n",
    "\n",
    "print(x)"
   ]
  },
  {
   "cell_type": "markdown",
   "id": "eb2ddba8",
   "metadata": {},
   "source": [
    "### 19) isnumeric() Method\n",
    "    The isnumeric() method returns True if all the characters are numeric (0-9), otherwise False.\n",
    "\n",
    "    Exponents, like ² and ¾ are also considered to be numeric values.\n",
    "\n",
    "    \"-1\" and \"1.5\" are NOT considered numeric values, because all the characters in the string must be numeric, and the - and the . are not.\n",
    "### Syntax\n",
    "    string.isnumeric()"
   ]
  },
  {
   "cell_type": "code",
   "execution_count": 30,
   "id": "f9612149",
   "metadata": {},
   "outputs": [
    {
     "name": "stdout",
     "output_type": "stream",
     "text": [
      "0   True\n",
      "²   True\n",
      "10km2   False\n",
      "-1   False\n",
      "1.5   False\n"
     ]
    }
   ],
   "source": [
    "a = \"\\u0030\" #unicode for 0\n",
    "b = \"\\u00B2\" #unicode for &sup2;\n",
    "c = \"10km2\"\n",
    "d = \"-1\"\n",
    "e = \"1.5\"\n",
    "\n",
    "print(a,\" \",a.isnumeric())\n",
    "print(b,\" \",b.isnumeric())\n",
    "print(c,\" \",c.isnumeric())\n",
    "print(d,\" \",d.isnumeric())\n",
    "print(e,\" \",e.isnumeric())"
   ]
  },
  {
   "cell_type": "markdown",
   "id": "4350b930",
   "metadata": {},
   "source": [
    "### 20) isdecimal() Method\n",
    "    The isdecimal() method returns True if all the characters are decimals (0-9).\n",
    "\n",
    "    This method is used on unicode objects.\n",
    "    \n",
    "### Syntax\n",
    "    string.isdecimal()"
   ]
  },
  {
   "cell_type": "code",
   "execution_count": 31,
   "id": "32e3d08b",
   "metadata": {},
   "outputs": [
    {
     "name": "stdout",
     "output_type": "stream",
     "text": [
      "0   True\n",
      "G   False\n"
     ]
    }
   ],
   "source": [
    "a = \"\\u0030\" #unicode for 0\n",
    "b = \"\\u0047\" #unicode for G\n",
    "\n",
    "print(a,\" \",a.isdecimal())\n",
    "print(b,\" \",b.isdecimal())"
   ]
  },
  {
   "cell_type": "markdown",
   "id": "2cc4320f",
   "metadata": {},
   "source": [
    "### 21) isdigit() Method\n",
    "    The isdigit() method returns True if all the characters are digits, otherwise False.\n",
    "\n",
    "    Exponents, like ², are also considered to be a digit.\n",
    "### Syntax\n",
    "    string.isdigit()"
   ]
  },
  {
   "cell_type": "code",
   "execution_count": 32,
   "id": "f01683c0",
   "metadata": {},
   "outputs": [
    {
     "name": "stdout",
     "output_type": "stream",
     "text": [
      "0   True\n",
      "²   True\n",
      "name   False\n"
     ]
    }
   ],
   "source": [
    "a = \"\\u0030\" #unicode for 0\n",
    "b = \"\\u00B2\" #unicode for ²\n",
    "c = \"name\"\n",
    "\n",
    "print(a,\" \",a.isdigit())\n",
    "print(b,\" \",b.isdigit())\n",
    "print(c,\" \",c.isdigit())"
   ]
  },
  {
   "cell_type": "markdown",
   "id": "ec6f8560",
   "metadata": {},
   "source": [
    "### 22) isidentifier() Method\n",
    "    The isidentifier() method returns True if the string is a valid identifier, otherwise False.\n",
    "\n",
    "    A string is considered a valid identifier if it only contains alphanumeric letters (a-z) and (0-9), or underscores (_). A valid identifier cannot start with a number, or contain any spaces.\n",
    "\n",
    "### Syntax\n",
    "    string.isidentifier()"
   ]
  },
  {
   "cell_type": "code",
   "execution_count": 33,
   "id": "fd2e9e3d",
   "metadata": {},
   "outputs": [
    {
     "name": "stdout",
     "output_type": "stream",
     "text": [
      "MyFolder   True\n",
      "Demo002   True\n",
      "2bring   False\n",
      "my demo   False\n"
     ]
    }
   ],
   "source": [
    "a = \"MyFolder\"\n",
    "b = \"Demo002\"\n",
    "c = \"2bring\"\n",
    "d = \"my demo\"\n",
    "\n",
    "print(a,\" \",a.isidentifier())\n",
    "print(b,\" \",b.isidentifier())\n",
    "print(c,\" \",c.isidentifier())\n",
    "print(d,\" \",d.isidentifier())"
   ]
  },
  {
   "cell_type": "markdown",
   "id": "d66af3f9",
   "metadata": {},
   "source": [
    "### 23) islower() Method\n",
    "    The islower() method returns True if all the characters are in lower case, otherwise False.\n",
    "\n",
    "    Numbers, symbols and spaces are not checked, only alphabet characters.\n",
    "### Syntax\n",
    "    string.islower()"
   ]
  },
  {
   "cell_type": "code",
   "execution_count": 34,
   "id": "ebc53092",
   "metadata": {},
   "outputs": [
    {
     "name": "stdout",
     "output_type": "stream",
     "text": [
      "False\n",
      "True\n",
      "False\n"
     ]
    }
   ],
   "source": [
    "a = \"Hello world!\"\n",
    "b = \"hello 123\"\n",
    "c = \"mynameisPeter\"\n",
    "\n",
    "print(a.islower())\n",
    "print(b.islower())\n",
    "print(c.islower())"
   ]
  },
  {
   "cell_type": "markdown",
   "id": "9a5bf0a5",
   "metadata": {},
   "source": [
    "### 24) isupper() Method\n",
    "\n",
    "    The isupper() method returns True if all the characters are in upper case, otherwise False.\n",
    "\n",
    "    Numbers, symbols and spaces are not checked, only alphabet characters.\n",
    "\n",
    "### Syntax\n",
    "    string.isupper()"
   ]
  },
  {
   "cell_type": "code",
   "execution_count": 35,
   "id": "065f8868",
   "metadata": {},
   "outputs": [
    {
     "name": "stdout",
     "output_type": "stream",
     "text": [
      "False\n",
      "False\n",
      "True\n"
     ]
    }
   ],
   "source": [
    "a = \"Hello World!\"\n",
    "b = \"hello 123\"\n",
    "c = \"MY NAME IS PETER\"\n",
    "\n",
    "print(a.isupper())\n",
    "print(b.isupper())\n",
    "print(c.isupper())"
   ]
  },
  {
   "cell_type": "markdown",
   "id": "823e671f",
   "metadata": {},
   "source": [
    "### 25) isprintable() Method\n",
    "    The isprintable() method returns True if all the characters are printable, otherwise False.\n",
    "\n",
    "    Example of none printable character can be carriage return and line feed.\n",
    "\n",
    "### Syntax\n",
    "    string.isprintable()"
   ]
  },
  {
   "cell_type": "code",
   "execution_count": 36,
   "id": "e21a32fd",
   "metadata": {},
   "outputs": [
    {
     "name": "stdout",
     "output_type": "stream",
     "text": [
      "True\n"
     ]
    }
   ],
   "source": [
    "# below code is printable. Because it doesn't contain carriage return and line feed character.\n",
    "txt = \"Hello! Are you #1?\"\n",
    "\n",
    "x = txt.isprintable()\n",
    "\n",
    "print(x)"
   ]
  },
  {
   "cell_type": "code",
   "execution_count": 37,
   "id": "ac04324a",
   "metadata": {},
   "outputs": [
    {
     "name": "stdout",
     "output_type": "stream",
     "text": [
      "False\n"
     ]
    }
   ],
   "source": [
    "# below code is not printable. Because it contains carriage return and line feed character.\n",
    "txt = \"Hello!\\nAre you #1?\" #\\n is escape character \n",
    "\n",
    "x = txt.isprintable()\n",
    "\n",
    "print(x)"
   ]
  },
  {
   "cell_type": "markdown",
   "id": "7f2d5511",
   "metadata": {},
   "source": [
    "### 26) isspace() Method\n",
    "    The isspace() method returns True if all the characters in a string are whitespaces, otherwise False.\n",
    "### Syntax\n",
    "    string.isspace()"
   ]
  },
  {
   "cell_type": "code",
   "execution_count": 38,
   "id": "0a8015ca",
   "metadata": {},
   "outputs": [
    {
     "name": "stdout",
     "output_type": "stream",
     "text": [
      "True\n"
     ]
    }
   ],
   "source": [
    "# Below code will print true. Beacuse it doesn't contain any character.\n",
    "txt = \"   \"\n",
    "\n",
    "x = txt.isspace()\n",
    "\n",
    "print(x)"
   ]
  },
  {
   "cell_type": "code",
   "execution_count": 39,
   "id": "c8ebdc08",
   "metadata": {},
   "outputs": [
    {
     "name": "stdout",
     "output_type": "stream",
     "text": [
      "False\n"
     ]
    }
   ],
   "source": [
    "# Below code will print false. Beacuse it contains any character.\n",
    "txt = \"   s   \"\n",
    "\n",
    "x = txt.isspace()\n",
    "\n",
    "print(x)"
   ]
  },
  {
   "cell_type": "markdown",
   "id": "93472faf",
   "metadata": {},
   "source": [
    "### 27) istitle() Method\n",
    "\n",
    "    The istitle() method returns True if all words in a text start with a upper case letter, AND the rest of the word are lower case letters, otherwise False.\n",
    "\n",
    "    Symbols and numbers are ignored.\n",
    "### Syntax\n",
    "    string.istitle()"
   ]
  },
  {
   "cell_type": "code",
   "execution_count": 40,
   "id": "f5f7952e",
   "metadata": {},
   "outputs": [
    {
     "name": "stdout",
     "output_type": "stream",
     "text": [
      "False\n",
      "True\n",
      "True\n",
      "True\n"
     ]
    }
   ],
   "source": [
    "a = \"HELLO, AND WELCOME TO MY WORLD\"\n",
    "b = \"Hello\"\n",
    "c = \"22 Names\"\n",
    "d = \"This Is %'!?\"\n",
    "\n",
    "print(a.istitle())\n",
    "print(b.istitle())\n",
    "print(c.istitle())\n",
    "print(d.istitle())"
   ]
  },
  {
   "cell_type": "code",
   "execution_count": null,
   "id": "7ca31cc6",
   "metadata": {},
   "outputs": [],
   "source": []
  }
 ],
 "metadata": {
  "kernelspec": {
   "display_name": "Python 3 (ipykernel)",
   "language": "python",
   "name": "python3"
  },
  "language_info": {
   "codemirror_mode": {
    "name": "ipython",
    "version": 3
   },
   "file_extension": ".py",
   "mimetype": "text/x-python",
   "name": "python",
   "nbconvert_exporter": "python",
   "pygments_lexer": "ipython3",
   "version": "3.11.0"
  }
 },
 "nbformat": 4,
 "nbformat_minor": 5
}
