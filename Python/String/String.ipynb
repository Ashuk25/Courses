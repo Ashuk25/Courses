{
 "cells": [
  {
   "cell_type": "markdown",
   "id": "d618d14c",
   "metadata": {},
   "source": [
    "### String\n",
    "    \n",
    "    We can define string in python using double quotation (\"\") and single quotation (''). If we want to define string in multiple line we can use triple quoatation (''' ''')."
   ]
  },
  {
   "cell_type": "code",
   "execution_count": 2,
   "id": "a7801cf0",
   "metadata": {},
   "outputs": [
    {
     "name": "stdout",
     "output_type": "stream",
     "text": [
      "Hello\n",
      "Hello\n",
      "Hello everyone!!! \n",
      "Good Moring, Have a great. \n",
      "Keep learning and keep growing\n",
      "\n"
     ]
    }
   ],
   "source": [
    "a = \"Hello\" # double quotation\n",
    "b = 'Hello' # Single quotation\n",
    "c = '''Hello everyone!!! \n",
    "Good Moring, Have a great. \n",
    "Keep learning and keep growing\n",
    "'''  # Multiline quotation\n",
    "\n",
    "print(a)\n",
    "print(b)\n",
    "print(c)"
   ]
  },
  {
   "cell_type": "markdown",
   "id": "acb86fb0",
   "metadata": {},
   "source": [
    "### Use Array in String\n",
    "    We can use string as array. In Python, individual character consist indexing. The index is start from 0. Indexing is always integer datatype. Indexing allows negative address references to access characters from the back of the String, e.g. -1 refers to the last character, -2 refers to the second last character, and so on.\n",
    "    We can use slicing for getting specific range of character. We can define slicing - [:]"
   ]
  },
  {
   "cell_type": "code",
   "execution_count": 10,
   "id": "8393f095",
   "metadata": {},
   "outputs": [
    {
     "name": "stdout",
     "output_type": "stream",
     "text": [
      "e\n",
      "lco\n",
      "n\n",
      "ython\n",
      "Welcome to Python\n"
     ]
    }
   ],
   "source": [
    "a = \"Welcome to Python\"\n",
    "print(a[1]) # print index 1 character\n",
    "print(a[2:5]) # print index 2 to index 5 character\n",
    "print(a[-1]) # print last index of character\n",
    "print(a[-5:]) # print string from -5 index to end of the character\n",
    "print(a[:]) # print start to end character in the string"
   ]
  },
  {
   "cell_type": "markdown",
   "id": "bba368ed",
   "metadata": {},
   "source": [
    "### Use loop in String\n",
    "    we can loop through the characters in a string, with a for loop."
   ]
  },
  {
   "cell_type": "code",
   "execution_count": 11,
   "id": "1c3e228b",
   "metadata": {},
   "outputs": [
    {
     "name": "stdout",
     "output_type": "stream",
     "text": [
      "H\n",
      "e\n",
      "l\n",
      "l\n",
      "o\n"
     ]
    }
   ],
   "source": [
    "for x in \"Hello\":\n",
    "  print(x)"
   ]
  },
  {
   "cell_type": "markdown",
   "id": "bb4f2ace",
   "metadata": {},
   "source": [
    "### Find length of String\n",
    "    To get the length of a string, use the len() function."
   ]
  },
  {
   "cell_type": "code",
   "execution_count": 12,
   "id": "a9169542",
   "metadata": {},
   "outputs": [
    {
     "name": "stdout",
     "output_type": "stream",
     "text": [
      "13\n"
     ]
    }
   ],
   "source": [
    "a = \"Hello, World!\"\n",
    "print(len(a))"
   ]
  },
  {
   "cell_type": "markdown",
   "id": "2c3b580b",
   "metadata": {},
   "source": [
    "### how to check character is present in String or not\n",
    "    To check if a certain phrase or character is present in a string, we can use the keyword \"in\". The output is show in boolean value (True or False). If character present in String it will show True otherwise show False."
   ]
  },
  {
   "cell_type": "code",
   "execution_count": 16,
   "id": "52a19914",
   "metadata": {},
   "outputs": [
    {
     "name": "stdout",
     "output_type": "stream",
     "text": [
      "True\n",
      "Yes it is present\n"
     ]
    }
   ],
   "source": [
    "txt = \"To make perfect keep practicing\"\n",
    "print(\"keep\" in txt)\n",
    "\n",
    "# We can use this methodology in If statement too.\n",
    "if \"keep\" in txt:\n",
    "    print(\"Yes it is present\")"
   ]
  },
  {
   "cell_type": "markdown",
   "id": "d2d7424c",
   "metadata": {},
   "source": [
    "### how to check character is absent in String or not\n",
    "    To check if a certain phrase or character is NOT present in a string, we can use the keyword \"not in\". The output is show in boolean value (True or False). If character absent in String it will show True otherwise show False."
   ]
  },
  {
   "cell_type": "code",
   "execution_count": 17,
   "id": "b79d219c",
   "metadata": {},
   "outputs": [
    {
     "name": "stdout",
     "output_type": "stream",
     "text": [
      "True\n",
      "Yes it is Absent\n"
     ]
    }
   ],
   "source": [
    "txt = \"To make perfect keep practicing\"\n",
    "print(\"grow\" not in txt)\n",
    "\n",
    "# We can use this methodology in If statement too.\n",
    "if \"grow\" not in txt:\n",
    "    print(\"Yes it is Absent\")"
   ]
  },
  {
   "cell_type": "code",
   "execution_count": null,
   "id": "08a39e6c",
   "metadata": {},
   "outputs": [],
   "source": []
  }
 ],
 "metadata": {
  "kernelspec": {
   "display_name": "Python 3 (ipykernel)",
   "language": "python",
   "name": "python3"
  },
  "language_info": {
   "codemirror_mode": {
    "name": "ipython",
    "version": 3
   },
   "file_extension": ".py",
   "mimetype": "text/x-python",
   "name": "python",
   "nbconvert_exporter": "python",
   "pygments_lexer": "ipython3",
   "version": "3.11.0"
  }
 },
 "nbformat": 4,
 "nbformat_minor": 5
}
